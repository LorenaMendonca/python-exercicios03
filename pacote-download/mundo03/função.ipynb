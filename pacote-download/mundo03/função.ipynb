{
 "cells": [
  {
   "cell_type": "code",
   "execution_count": null,
   "metadata": {},
   "outputs": [],
   "source": [
    "#Exe.96\n",
    "def area(larg, comp):\n",
    "    a = larg * comp\n",
    "    print(f'a area de um terreno {larg}x{comp} é de {a}m2.')\n",
    "\n",
    "\n",
    "l = float(input('LARGURA(m): '))\n",
    "c = float(input('COMPRIMENTO(m): '))\n",
    "area(l, c)"
   ]
  },
  {
   "cell_type": "code",
   "execution_count": null,
   "metadata": {},
   "outputs": [],
   "source": [
    "#Exe.97\n",
    "def escreva(txt):\n",
    "    print('-' * len(txt))\n",
    "    print(txt)\n",
    "    print('-' * len(txt))\n",
    "\n",
    "\n",
    "escreva(' LORENA DE MENDONCA ')\n",
    "escreva(' ANA ')"
   ]
  },
  {
   "cell_type": "code",
   "execution_count": null,
   "metadata": {},
   "outputs": [],
   "source": [
    "#Exe.98\n",
    "import time \n",
    "def contador(inicio, fim, passo):\n",
    "    print('=-' * 20)\n",
    "    print(f'contagem de {inicio} ate {fim}, de {passo} em {passo}')\n",
    "    if inicio >= fim:\n",
    "        for num in range(inicio, fim-1, -passo):\n",
    "            print(f'{num} ', end='', flush=True)\n",
    "            time.sleep(0.5)\n",
    "        print()\n",
    "    if inicio <= fim:\n",
    "        for num in range(inicio, fim+1, passo):\n",
    "            print(f'{num} ', end='', flush=True)\n",
    "            time.sleep(0.5)\n",
    "        print()\n",
    "    if passo < 0:\n",
    "        passo *= -1\n",
    "    if passo == 0:\n",
    "        passo = 1\n",
    "\n",
    "\n",
    "contador(1, 10, 1)\n",
    "contador(10, 0, 2)\n",
    "print('=-' * 20)\n",
    "print('agora é a sua vez de personalizar a contagem')\n",
    "i = int(input('inicio: '))\n",
    "f = int(input('fim:    '))\n",
    "p = int(input('passo:  ')) \n",
    "contador(i, f, p)"
   ]
  },
  {
   "cell_type": "code",
   "execution_count": null,
   "metadata": {},
   "outputs": [],
   "source": [
    "#Exe.99\n",
    "import time \n",
    "def maior(* num):\n",
    "    print('-='*30)\n",
    "    print('analisando os valores passados...')\n",
    "    maxi = max(num)\n",
    "    for valor in num:\n",
    "        print(f'{valor} ', end='', flush=True)\n",
    "        time.sleep(0.5)\n",
    "    print(f'foram informados {len(num)} valores ao todo')\n",
    "    print(f'o maior valor informado foi {maxi}')\n",
    "\n",
    "maior(1, 4, 6, 7)\n",
    "maior(23, 10, 45, 0, 55, 18)\n",
    "maior(0)\n"
   ]
  },
  {
   "cell_type": "code",
   "execution_count": null,
   "metadata": {},
   "outputs": [],
   "source": [
    "#Exe.100\n",
    "#TERMINAR SOZINHA\n",
    "from random import randint\n",
    "#def sorteia():\n",
    "    \n",
    "ran = randint(0,10)\n",
    "for ran in range(5):\n",
    "    print(ran)\n",
    "#print(f'sorteando 5 valores da lista: {numeros}')\n"
   ]
  },
  {
   "cell_type": "markdown",
   "metadata": {},
   "source": [
    "# funçoes 2"
   ]
  },
  {
   "cell_type": "code",
   "execution_count": null,
   "metadata": {},
   "outputs": [],
   "source": [
    "#Exe.101\n",
    "def voto(nasc):\n",
    "    from datetime import datetime\n",
    "    ano = datetime.now().year\n",
    "    idade = ano - nasc\n",
    "    if idade < 16:\n",
    "        return f'com {idade} anos: NAO VOTA'\n",
    "    elif idade >= 65 or 16 <= idade < 18:\n",
    "       return f'com {idade} anos: OPCIONAL'\n",
    "    else:\n",
    "        return f'com {idade} anos: OBRIGATORIO'\n",
    "\n",
    "quest = int(input('em que ano vc nasceu? '))\n",
    "print(voto(quest))"
   ]
  },
  {
   "cell_type": "code",
   "execution_count": null,
   "metadata": {},
   "outputs": [],
   "source": [
    "#Exe.102\n",
    "def fatorial(n, show=False):\n",
    "    f = 1\n",
    "    for c in range(n, 0, -1): \n",
    "        f *= c\n",
    "        if show:\n",
    "            print(c, end='') \n",
    "            if c > 1:\n",
    "                print(' x ', end='')\n",
    "            else:\n",
    "                print(' = ', end='')\n",
    "    return f\n",
    "\n",
    "print(fatorial(5, show=True))"
   ]
  },
  {
   "cell_type": "code",
   "execution_count": null,
   "metadata": {},
   "outputs": [],
   "source": [
    "#Exe.103\n",
    "def ficha(nome='<desconhecido>', gols=0):\n",
    "    print(f'o jogador {nome} fez {gols} gols no campeonato')\n",
    "\n",
    "n = str(input('nome do jogador: '))\n",
    "g = str(input('numero de gols: '))\n",
    "if g.isnumeric():\n",
    "    g = int(g)\n",
    "else:\n",
    "    g = 0\n",
    "if n.strip() == '':\n",
    "    ficha(gols=g)\n",
    "else:\n",
    "    ficha(n, g)\n"
   ]
  },
  {
   "cell_type": "code",
   "execution_count": null,
   "metadata": {},
   "outputs": [],
   "source": [
    "#Exe.104\n",
    "def leiaInt(msg):\n",
    "    num = input(msg)\n",
    "    if num.isnumeric():\n",
    "        return num\n",
    "    else:\n",
    "        print('\\033[31mERRO! Digite um numero inteiro valido\\033[m')\n",
    "\n",
    "n = leiaInt('digite uma numero: ')\n",
    "print(f'voce digitou o numero {n}')\n"
   ]
  },
  {
   "cell_type": "code",
   "execution_count": null,
   "metadata": {},
   "outputs": [],
   "source": [
    "#Exe.105\n",
    "def notas(*num, situ=False):\n",
    "    aluno = dict()\n",
    "    aluno['total'] = len(num)\n",
    "    aluno['maior'] = max(num)\n",
    "    aluno['menor'] = min(num)\n",
    "    aluno['media'] = sum(num)/len(num)\n",
    "    if situ:\n",
    "        if aluno['media'] >= 7:\n",
    "            aluno['situação'] = 'BOA'\n",
    "        elif aluno['media'] >= 5:\n",
    "            aluno['situação'] = 'RAZOAVEL'\n",
    "        else:\n",
    "            aluno['situação'] = 'RUIM'\n",
    "    return aluno\n",
    "    \n",
    "resp = notas(9, 10, 3.5, 2, 6, situ=True)\n",
    "print(resp)"
   ]
  },
  {
   "cell_type": "code",
   "execution_count": null,
   "metadata": {},
   "outputs": [],
   "source": [
    "#Exe.106\n",
    "#FAZER SOZINHA"
   ]
  }
 ],
 "metadata": {
  "language_info": {
   "name": "python"
  }
 },
 "nbformat": 4,
 "nbformat_minor": 2
}
