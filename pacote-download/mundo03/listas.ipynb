{
 "cells": [
  {
   "cell_type": "code",
   "execution_count": 1,
   "metadata": {},
   "outputs": [
    {
     "name": "stdout",
     "output_type": "stream",
     "text": [
      "=-=-=-=-=-=-=-=-=-=-=-=-=-=-=-=-=-=-=-=-=-=-=-=-=-=-=-=-=-=-\n",
      "voce digitou os valores [1, 4, 7, 5, 9]\n",
      "o maior valor digitado foi 9 nas posicoes [4]\n",
      "o menor valor digitado foi 1 nas posicoes [0]\n"
     ]
    }
   ],
   "source": [
    "#Exe.78\n",
    "valores = []\n",
    "pos_max = []\n",
    "pos_min = []\n",
    "for cont in range(0,5):\n",
    "    valores.append(int(input(f'digite um valor para a posicao {cont}: ')))\n",
    "for p, v in enumerate(valores):\n",
    "    if v == max(valores):\n",
    "        pos_max.append(p)\n",
    "    if v == min(valores):\n",
    "        pos_min.append(p) \n",
    "print('=-'*30)\n",
    "print(f'voce digitou os valores {valores}')\n",
    "print(f'o maior valor digitado foi {max(valores)} nas posicoes {pos_max}')\n",
    "print(f'o menor valor digitado foi {min(valores)} nas posicoes {pos_min}')  \n"
   ]
  },
  {
   "cell_type": "code",
   "execution_count": 1,
   "metadata": {},
   "outputs": [
    {
     "name": "stdout",
     "output_type": "stream",
     "text": [
      "valor adicionado com suceso...\n",
      "valor adicionado com suceso...\n",
      "valor duplicado! nao vou adicionar...\n",
      "=-=-=-=-=-=-=-=-=-=-=-=-=-=-=-=-=-=-=-=-=-=-=-=-=-=-=-=-=-=-\n",
      "voce digitou os valores [2, 6]\n"
     ]
    }
   ],
   "source": [
    "#Exe.79\n",
    "valor = []\n",
    "while True:\n",
    "    n = int(input('digite um valor: '))\n",
    "    if n not in valor:\n",
    "        valor.append(n)\n",
    "        print('valor adicionado com suceso...')\n",
    "    else:\n",
    "        print('valor duplicado! nao vou adicionar...')\n",
    "    continuar = str(input('quer continuar? [S/N]')).strip().upper()[0]\n",
    "    if continuar == 'N':\n",
    "        break\n",
    "print('=-'*30)\n",
    "print(f'voce digitou os valores {sorted(valor)}')\n"
   ]
  },
  {
   "cell_type": "code",
   "execution_count": null,
   "metadata": {},
   "outputs": [],
   "source": [
    "#Exe.80\n",
    "import bisect\n",
    "numbers = []\n",
    "for i in range(5):\n",
    "    n = int(input('digite um numero: '))\n",
    "    bisect.insort(numbers, n)\n",
    "    print(f'numero {n} adicionado na posicao {numbers.index(n)}')\n",
    "print(f'numeros digitados: {numbers}')"
   ]
  },
  {
   "cell_type": "code",
   "execution_count": null,
   "metadata": {},
   "outputs": [],
   "source": [
    "#Exe.81\n",
    "num = []\n",
    "while True:\n",
    "    num.append(int(input('digite um valor: ')))\n",
    "    num.sort(reverse=True)\n",
    "    conti = str(input('quer continuar? [S/N]: ')).strip().upper()[0]\n",
    "    if conti == 'N':\n",
    "        break\n",
    "print('=-'*30)\n",
    "print(f'voce digitou {len(num)} elementos')\n",
    "print(f'os valores em ordem decrescente sao {num}')\n",
    "if 5 in num:\n",
    "    print('o valor 5 foi encontrado na lista')\n",
    "else:\n",
    "    print('o valor 5 nao foi encontrado na lista')"
   ]
  },
  {
   "cell_type": "code",
   "execution_count": null,
   "metadata": {},
   "outputs": [],
   "source": [
    "#Exe.82\n",
    "base = list()\n",
    "par = list()\n",
    "impar = list()\n",
    "while True:\n",
    "    num = int(input('digite um numero: '))\n",
    "    base.append(num)\n",
    "    if num % 2 == 0:\n",
    "        par.append(num)\n",
    "    else:\n",
    "        impar.append(num)\n",
    "    continuar = str(input('quer continuar? [S/N] ')).strip().upper()[0]\n",
    "    if continuar == 'N':\n",
    "        break\n",
    "base.sort()\n",
    "par.sort()\n",
    "impar.sort()\n",
    "print('=-'*30)\n",
    "print(f'a lista de pares é {par}')\n",
    "print(f'a lista de impares é {impar}')\n",
    "print(f'a lista completa é {base}')"
   ]
  },
  {
   "cell_type": "code",
   "execution_count": null,
   "metadata": {},
   "outputs": [],
   "source": [
    "#Exe.83\n",
    "expr = str(input('Digite a expressão: '))\n",
    "if expr.count('(') == expr.count(')'):\n",
    "    print('Sua expressão é válida!!')\n",
    "else:\n",
    "    print('Sua expressão não é válida')"
   ]
  },
  {
   "cell_type": "markdown",
   "metadata": {},
   "source": [
    "# listas (parte 2)"
   ]
  },
  {
   "cell_type": "code",
   "execution_count": null,
   "metadata": {},
   "outputs": [],
   "source": [
    "#Exe.84\n",
    "cont_nome = list()\n",
    "cont_peso = list()\n",
    "while True:\n",
    "    nome = str(input('nome: '))\n",
    "    cont_nome.append(nome)\n",
    "    peso = float(input('peso: '))\n",
    "    cont_peso.append(peso)\n",
    "    continuar = str(input('que continuar? [S/N]: ')).strip().upper()[0]\n",
    "    if continuar == 'N':\n",
    "        break\n",
    "print('=-'*30)\n",
    "print(f'ao todo voce cadastrou {len(cont_nome)} pessoas')\n",
    "print(f'o maior peso foi de {max(cont_peso)}. Peso de {cont_nome[cont_peso.index(max(cont_peso))]}')\n",
    "#print(f'o menor peso foi de {min(cont_peso)}. Peso de {}')"
   ]
  },
  {
   "cell_type": "code",
   "execution_count": null,
   "metadata": {},
   "outputs": [],
   "source": [
    "#Exe.85\n",
    "lista = [[], []]\n",
    "numero = 0\n",
    "for n in range(1,8):\n",
    "    numero = int(input(f'digite o {n}o. valor: '))  \n",
    "    if numero % 2 == 0:\n",
    "        lista[0].append(numero)\n",
    "    else:\n",
    "        lista[1].append(numero)\n",
    "lista[0].sort()\n",
    "lista[1].sort()\n",
    "print(f'os numeros pares foram: {lista[0]}')\n",
    "print(f'os numeros impares foram: {lista[1]}')"
   ]
  },
  {
   "cell_type": "code",
   "execution_count": null,
   "metadata": {},
   "outputs": [],
   "source": [
    "#Exe.86\n",
    "matriz = [[0,0,0], [0,0,0], [0,0,0]]\n",
    "for l in range(0, 3):\n",
    "    for c in range(0,3):\n",
    "        matriz[l][c] = int(input(f'digite um valor para [{l}, {c}]: '))\n",
    "for l in range(0,3):\n",
    "    for c in range(0,3):\n",
    "        print(f'[{matriz [l][c]}]', end='')\n",
    "    print()\n"
   ]
  },
  {
   "cell_type": "code",
   "execution_count": null,
   "metadata": {},
   "outputs": [],
   "source": [
    "#Exe.87\n",
    "matriz = [[0,0,0], [0,0,0], [0,0,0]]\n",
    "spar = scol = 0\n",
    "for l in range(0, 3):\n",
    "    for c in range(0,3):\n",
    "        matriz[l][c] = int(input(f'digite um valor para [{l}, {c}]: '))\n",
    "for l in range(0,3):\n",
    "    for c in range(0,3):\n",
    "        print(f'[{matriz [l][c]}]', end='')\n",
    "        if matriz[l][c] % 2 == 0:\n",
    "            spar += matriz[l][c]\n",
    "    print()\n",
    "print('=-' *30)\n",
    "print(f'a soma dos valores pares é {spar}')\n",
    "for l in range(0,3):\n",
    "    scol += matriz[l][2]\n",
    "print(f'a soma dos valores da terceira coluna é {scol}')\n",
    "print(f'o maior valor da segunda linha é {max(matriz[1])}')"
   ]
  },
  {
   "cell_type": "code",
   "execution_count": null,
   "metadata": {},
   "outputs": [],
   "source": [
    "#Exe.88\n",
    "from random import randint\n",
    "from time import sleep\n",
    "jogo = list()\n",
    "user = int(input('quantos jogos voce quer que eu sorteie? '))\n",
    "for j in range(0, user):\n",
    "    while len(jogo) < 6:\n",
    "        num = randint(1,60)\n",
    "        if num not in jogo:\n",
    "            jogo.append(num)\n",
    "    print(f'jogo {j+1}: {sorted(jogo)}')\n",
    "    sleep(.5)\n",
    "    jogo.clear()\n",
    "print('=-' *10, 'BOA SORTE', '=-'*10)\n"
   ]
  },
  {
   "cell_type": "code",
   "execution_count": null,
   "metadata": {},
   "outputs": [],
   "source": [
    "#Exe.89\n",
    "#terminar de fazer\n",
    "ficha = list()\n",
    "while True:\n",
    "    nome = str(input('nome: '))\n",
    "    num1 = float(input('nota 1: '))\n",
    "    num2 = float(input('nota 2: '))\n",
    "    media = (num1 + num2) / 2\n",
    "    ficha.append([nome, [num1, num2], media])\n",
    "    continuar = str(input('que continuar?[S/N]: ')).strip().upper()[0]\n",
    "    if continuar == 'N':\n",
    "        break\n",
    "print('=-'*20) \n",
    "print(f'{ficha[nome]}')"
   ]
  }
 ],
 "metadata": {
  "kernelspec": {
   "display_name": "Python 3",
   "language": "python",
   "name": "python3"
  },
  "language_info": {
   "codemirror_mode": {
    "name": "ipython",
    "version": 3
   },
   "file_extension": ".py",
   "mimetype": "text/x-python",
   "name": "python",
   "nbconvert_exporter": "python",
   "pygments_lexer": "ipython3",
   "version": "3.12.2"
  }
 },
 "nbformat": 4,
 "nbformat_minor": 2
}
