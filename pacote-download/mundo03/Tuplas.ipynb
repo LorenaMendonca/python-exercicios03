{
 "cells": [
  {
   "cell_type": "code",
   "execution_count": null,
   "metadata": {},
   "outputs": [],
   "source": [
    "#Exe.72\n",
    "num = ('zero','um', 'dois', 'tres', 'quatro', 'cinco')\n",
    "while True:\n",
    "    resp = int(input('digite um numero entre 0 e 5:'))\n",
    "    if 0 <= resp <= 5:\n",
    "        break\n",
    "    print('tente novamente. ', end='')\n",
    "print(f'vc digitou o numero {num[resp]}')\n",
    "print('fim')"
   ]
  },
  {
   "cell_type": "code",
   "execution_count": null,
   "metadata": {},
   "outputs": [],
   "source": [
    "#Exe.73\n",
    "times = ('Athletico Paranaense', 'Internacional','Juventude', 'Atlético Goianiense', \n",
    "         'Atlético Mineiro', 'Bahia', 'Bragantino', 'Ceará', 'Chapecoense', 'Corinthians', \n",
    "         'Cuiabá', 'Flamengo', 'Fluminense', 'Fortaleza', 'Grêmio')\n",
    "print('=-'*20)\n",
    "print(f'lista de times do brasileirao: {times}')\n",
    "print('=-'*20)\n",
    "print(f'os 5 primeiros sao: {times[:5]}')\n",
    "print('=-'*20)\n",
    "print(f'os 4 ultimos sao: {times[-4:]}')\n",
    "print('=-'*20)\n",
    "print(f'times em ordem alfabetica: {sorted(times)}')\n",
    "print('=-'*20)\n",
    "print(f'o chapecoense esta na posiçao {times.index('Chapecoense')+1}')"
   ]
  },
  {
   "cell_type": "code",
   "execution_count": null,
   "metadata": {},
   "outputs": [],
   "source": [
    "#Exe.74\n",
    "from random import randint\n",
    "num = (randint(0, 10), randint(0, 10), randint(0, 10), randint(0, 10), randint(0, 10))\n",
    "print(f'os valores sorteados foram: {num}')\n",
    "print(f'o maior numero foi : {max(num)}')\n",
    "print(f'o menor numero foi: {min(num)}')"
   ]
  },
  {
   "cell_type": "code",
   "execution_count": null,
   "metadata": {},
   "outputs": [],
   "source": [
    "#Exe.75\n",
    "num = (int(input('digite um numero: ')),\n",
    "       int(input('digite um numero: ')),\n",
    "       int(input('digite um numero: ')),\n",
    "       int(input('digite um numero: ')),\n",
    "       int(input('digite um numero: ')),)\n",
    "print(f'voce digitou os valores {num}')\n",
    "print(f'o valor 9 apareceu {num.count(9)} vezes')\n",
    "if 3 in num:\n",
    "    print(f'o valor 3 apareceu na posicao {num.index(3)+1}')\n",
    "print('os valores pares digitados foram ', end=' ')\n",
    "for n in num:\n",
    "    if n % 2 == 0:\n",
    "        print(n, end=' ')"
   ]
  },
  {
   "cell_type": "code",
   "execution_count": null,
   "metadata": {},
   "outputs": [],
   "source": [
    "#Exe.76"
   ]
  },
  {
   "cell_type": "code",
   "execution_count": null,
   "metadata": {},
   "outputs": [],
   "source": [
    "#Exe.77"
   ]
  }
 ],
 "metadata": {
  "language_info": {
   "name": "python"
  }
 },
 "nbformat": 4,
 "nbformat_minor": 2
}
