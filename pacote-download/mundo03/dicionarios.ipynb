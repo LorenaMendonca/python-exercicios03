{
 "cells": [
  {
   "cell_type": "code",
   "execution_count": null,
   "metadata": {},
   "outputs": [],
   "source": [
    "#Exe.90\n",
    "pessoa = dict()\n",
    "pessoa['nome'] = str(input('nome: '))\n",
    "pessoa['media'] = float(input(f'media de {pessoa[\"nome\"]}: '))\n",
    "if pessoa['media'] >= 7:\n",
    "    pessoa['situação'] = 'aprovado'\n",
    "elif 5 <= pessoa['media'] < 7:\n",
    "    pessoa['situação'] = 'recuperação'   \n",
    "else:\n",
    "    pessoa['situação'] = 'reprovado'\n",
    "print('=-'*10)\n",
    "for k, v in pessoa.items():\n",
    "    print(f'- {k} é igual a {v}')\n"
   ]
  },
  {
   "cell_type": "code",
   "execution_count": null,
   "metadata": {},
   "outputs": [],
   "source": [
    "#Exe.91 \n",
    "from random import randint\n",
    "from time import sleep\n",
    "jogadores = {}\n",
    "c = 1\n",
    "for cont in range(1,5):\n",
    "    jogada = randint(1,6)\n",
    "    jogadores[\"jogador\" + str(cont)] = jogada\n",
    "for k, v in jogadores.items():\n",
    "    print(f'{k} tirou {v} no dado')\n",
    "    sleep(1)\n",
    "print('=-'*30)\n",
    "print('RANKING DOS JOGADORES')\n",
    "ranking = dict(sorted(jogadores.items(), key=lambda item: item[1], reverse=True))\n",
    "for k, v in ranking.items():\n",
    "    print(f'{c}o. lugar: {k} com {v}')\n",
    "    c+= 1\n",
    "    sleep(1)"
   ]
  },
  {
   "cell_type": "code",
   "execution_count": null,
   "metadata": {},
   "outputs": [],
   "source": [
    "#Exe.92\n",
    "from datetime import datetime\n",
    "dados = dict()\n",
    "dados['nome'] = str(input('nome: '))\n",
    "nasc = int(input('ano de nascimento: '))\n",
    "dados['idade'] = datetime.now().year - nasc\n",
    "dados['ctps'] = int(input('carteira de trabalho (0 nao tem): '))\n",
    "if dados['ctps'] != 0:\n",
    "    dados['contratação'] = int(input('ano de contratação: '))\n",
    "    dados['salario'] = float(input('salario: R$'))\n",
    "    dados['aposentadoria'] = dados['idade']+((dados['contratação'] + 35) - datetime.now().year)\n",
    "print('=-'*20)\n",
    "for k, v in dados.items():\n",
    "    print(f'{k} tem o valor {v}')"
   ]
  },
  {
   "cell_type": "code",
   "execution_count": null,
   "metadata": {},
   "outputs": [],
   "source": [
    "#Exe.93\n",
    "dados = {}\n",
    "gols = []\n",
    "tot = 0\n",
    "dados['nome'] = str(input('nome do jogador? '))\n",
    "q = int(input(f'quantas partidas {dados[\"nome\"]} jogou? '))\n",
    "for cont in range(1,q+1):\n",
    "    gols.append(int(input(f'quantos gols na partida {cont}: ')))\n",
    "    tot += gols[cont-1]\n",
    "dados['total'] = tot\n",
    "dados['gols marcados'] = (gols)\n",
    "print(dados)\n",
    "print('=-'*30)\n",
    "for k, v in dados.items():\n",
    "    print(f'o campo {k} tem valor {v}')\n",
    "print('=-'*30)\n",
    "print(f'o jogador {dados[\"nome\"]} jogou {len(dados[\"gols marcados\"])} partidas')\n",
    "for i, v in enumerate(dados['gols marcados']):\n",
    "    print(f' -> na partida {i+1}, fez {v} gols')\n",
    "print(f'foi um total de {dados[\"total\"]} gols')\n"
   ]
  },
  {
   "cell_type": "code",
   "execution_count": null,
   "metadata": {},
   "outputs": [],
   "source": [
    "#Exe.94\n",
    "dados = {}\n",
    "list = []\n",
    "soma = 0\n",
    "while True:\n",
    "    dados['nome'] = str(input('nome: '))\n",
    "    while True:\n",
    "        dados['sexo'] = str(input('sexo [M/F]: ')).upper()[0]\n",
    "        if dados['sexo'] not in 'MF':\n",
    "            print('ERRO! por favor, digite apenas M ou F')\n",
    "        else:\n",
    "            break\n",
    "    dados['idade'] = int(input('idade: '))\n",
    "    soma += dados['idade']\n",
    "    while True:\n",
    "        continuar = str(input('quer continuar? [S/N] ')).upper()[0]\n",
    "        if continuar not in 'SN':\n",
    "            print('ERRO! responda apenas S ou N')\n",
    "        else:\n",
    "            break\n",
    "    list.append(dados.copy())\n",
    "    if continuar in 'N':\n",
    "        break\n",
    "media = soma/len(list)\n",
    "print(list)\n",
    "print(f'ao todo temos {len(list)} pessoas cadastradas')\n",
    "print(f'a media de idade é de {media:5.2f} anos')\n",
    "print('as mulheres cadastradas foram ', end = '')\n",
    "for p in list:\n",
    "    if p['sexo'] == 'F':\n",
    "        print(p['nome'])\n",
    "print('lista das pessoas que estao acima da media: ', end= '')\n",
    "for p in list:\n",
    "    if p['idade'] >= media:\n",
    "        print('  ')\n",
    "        for k, v in p.items():\n",
    "            print(f'{k} = {v}; ', end='')\n",
    "        print()\n",
    "print('ENCERRADO')\n"
   ]
  },
  {
   "cell_type": "code",
   "execution_count": null,
   "metadata": {},
   "outputs": [],
   "source": [
    "#Exe.95\n",
    "#FAZER SOZINHA"
   ]
  }
 ],
 "metadata": {
  "language_info": {
   "name": "python"
  }
 },
 "nbformat": 4,
 "nbformat_minor": 2
}
