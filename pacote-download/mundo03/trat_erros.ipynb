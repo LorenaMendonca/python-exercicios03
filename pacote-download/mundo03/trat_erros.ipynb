{
 "cells": [
  {
   "cell_type": "code",
   "execution_count": null,
   "metadata": {},
   "outputs": [],
   "source": [
    "#Exe.113\n",
    "def leiaint(msg):\n",
    "    while True:\n",
    "        try:\n",
    "            n = int(input(msg))\n",
    "        except (ValueError, TypeError):\n",
    "            print('ERRO! por favor digite um numero inteiro valido')\n",
    "            continue\n",
    "        except(KeyboardInterrupt):\n",
    "            print('usuario preferiu nao digitar esse numero')\n",
    "            return 0\n",
    "        else:\n",
    "            return n\n",
    "        \n",
    "\n",
    "n1 = leiaint('digite um numero inteiro: ')\n",
    "print(f'o valor inteiro digitado foi {n1} e o real foi ')"
   ]
  },
  {
   "cell_type": "code",
   "execution_count": null,
   "metadata": {},
   "outputs": [],
   "source": [
    "#Exe.114\n",
    "import urllib\n",
    "import urllib.error\n",
    "import urllib.request\n",
    "try:\n",
    "    site = urllib.request.urlopen('http://www.pudim.com.br')\n",
    "except urllib.error.URLError:\n",
    "    print('o site nao esta acessivel no momento')\n",
    "else:\n",
    "    print('consegui acessar o site com sucesso!')\n"
   ]
  }
 ],
 "metadata": {
  "language_info": {
   "name": "python"
  }
 },
 "nbformat": 4,
 "nbformat_minor": 2
}
